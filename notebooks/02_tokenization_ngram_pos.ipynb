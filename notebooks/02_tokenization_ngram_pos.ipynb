{
  "cells": [
    {
      "cell_type": "markdown",
      "metadata": {
        "colab_type": "text",
        "id": "view-in-github"
      },
      "source": [
        "<a href=\"https://colab.research.google.com/github/Meshal6299/multilingual-movie-reviews-NLP/blob/main/notebooks/02_tokenization_ngram_pos.ipynb\" target=\"_parent\"><img src=\"https://colab.research.google.com/assets/colab-badge.svg\" alt=\"Open In Colab\"/></a>"
      ]
    },
    {
      "cell_type": "code",
      "execution_count": 2,
      "metadata": {
        "colab": {
          "base_uri": "https://localhost:8080/"
        },
        "id": "70fcqUT12W5i",
        "outputId": "ee9e7373-8e97-4ffc-e55e-2cac7ff85cd7"
      },
      "outputs": [
        {
          "name": "stdout",
          "output_type": "stream",
          "text": [
            "Cloning into 'multilingual-movie-reviews-NLP'...\n",
            "remote: Enumerating objects: 155, done.\u001b[K\n",
            "remote: Counting objects: 100% (155/155), done.\u001b[K\n",
            "remote: Compressing objects: 100% (114/114), done.\u001b[K\n",
            "remote: Total 155 (delta 73), reused 93 (delta 33), pack-reused 0 (from 0)\u001b[K\n",
            "Receiving objects: 100% (155/155), 5.47 MiB | 10.25 MiB/s, done.\n",
            "Resolving deltas: 100% (73/73), done.\n"
          ]
        }
      ],
      "source": [
        "!git clone https://github.com/Meshal6299/multilingual-movie-reviews-NLP.git"
      ]
    },
    {
      "cell_type": "code",
      "execution_count": 3,
      "metadata": {
        "colab": {
          "base_uri": "https://localhost:8080/"
        },
        "id": "Fx8vE4nK2wTZ",
        "outputId": "067ffa0c-b256-4c94-c6cc-dc103dc40dba"
      },
      "outputs": [
        {
          "name": "stdout",
          "output_type": "stream",
          "text": [
            "/content/multilingual-movie-reviews-NLP\n",
            "data  notebooks  README.md  requirements.txt  run_pipeline.py  src\n"
          ]
        }
      ],
      "source": [
        "%cd multilingual-movie-reviews-NLP\n",
        "!ls\n",
        "\n",
        "# the output should be the following:\n",
        "# /content/multilingual-movie-reviews-NLP\n",
        "# data  notebooks  README.md  requirements.txt  run_pipeline.py  src"
      ]
    },
    {
      "cell_type": "code",
      "execution_count": null,
      "metadata": {
        "id": "xJH153kA20cs"
      },
      "outputs": [],
      "source": [
        "import spacy\n",
        "import pandas as pd\n",
        "import nltk\n",
        "from nltk import ngrams\n",
        "from collections import Counter\n",
        "import math\n",
        "import seaborn as sns\n",
        "import matplotlib.pyplot as plt\n",
        "from spacy import displacy"
      ]
    },
    {
      "cell_type": "code",
      "execution_count": 2,
      "metadata": {
        "colab": {
          "base_uri": "https://localhost:8080/"
        },
        "id": "53b17bf2",
        "outputId": "7b4870fb-b55c-42da-9513-b54106657175"
      },
      "outputs": [
        {
          "name": "stdout",
          "output_type": "stream",
          "text": [
            "Collecting en-core-web-sm==3.8.0\n",
            "  Downloading https://github.com/explosion/spacy-models/releases/download/en_core_web_sm-3.8.0/en_core_web_sm-3.8.0-py3-none-any.whl (12.8 MB)\n",
            "\u001b[2K     \u001b[90m━━━━━━━━━━━━━━━━━━━━━━━━━━━━━━━━━━━━━━━━\u001b[0m \u001b[32m12.8/12.8 MB\u001b[0m \u001b[31m6.6 MB/s\u001b[0m eta \u001b[36m0:00:00\u001b[0m00:01\u001b[0m00:01\u001b[0m\n",
            "\u001b[?25h\u001b[38;5;2m✔ Download and installation successful\u001b[0m\n",
            "You can now load the package via spacy.load('en_core_web_sm')\n"
          ]
        }
      ],
      "source": [
        "!python -m spacy download en_core_web_sm"
      ]
    },
    {
      "cell_type": "code",
      "execution_count": 3,
      "metadata": {
        "colab": {
          "base_uri": "https://localhost:8080/"
        },
        "id": "ydOxiqlsOt3F",
        "outputId": "63afd271-4534-4410-c34f-945b04561ef7"
      },
      "outputs": [
        {
          "name": "stdout",
          "output_type": "stream",
          "text": [
            "Collecting es-core-news-sm==3.8.0\n",
            "  Downloading https://github.com/explosion/spacy-models/releases/download/es_core_news_sm-3.8.0/es_core_news_sm-3.8.0-py3-none-any.whl (12.9 MB)\n",
            "\u001b[2K     \u001b[90m━━━━━━━━━━━━━━━━━━━━━━━━━━━━━━━━━━━━━━━━\u001b[0m \u001b[32m12.9/12.9 MB\u001b[0m \u001b[31m10.1 MB/s\u001b[0m eta \u001b[36m0:00:00\u001b[0m00:01\u001b[0m00:01\u001b[0m\n",
            "\u001b[?25h\u001b[38;5;2m✔ Download and installation successful\u001b[0m\n",
            "You can now load the package via spacy.load('es_core_news_sm')\n"
          ]
        }
      ],
      "source": [
        "!python -m spacy download es_core_news_sm"
      ]
    },
    {
      "cell_type": "code",
      "execution_count": 4,
      "metadata": {
        "id": "v2bTERj53nzX"
      },
      "outputs": [],
      "source": [
        "nlp_en = spacy.load(\"en_core_web_sm\")\n",
        "nlp_es = spacy.load(\"es_core_news_sm\")"
      ]
    },
    {
      "cell_type": "code",
      "execution_count": 6,
      "metadata": {
        "id": "uYNl5JNr3LS1"
      },
      "outputs": [],
      "source": [
        "def tokenize_text(doc):\n",
        "    return [token.text for token in doc if not token.is_punct and not token.is_space]\n",
        "\n",
        "eng = pd.read_csv(\"../data/processed/01_cleaned_imdb_en.csv\")\n",
        "spa = pd.read_csv(\"../data/processed/01_cleaned_imdb_es.csv\")\n",
        "\n",
        "eng[\"tokens\"] = eng[\"clean_text\"].apply(lambda x: tokenize_text(nlp_en(x)))\n",
        "spa[\"tokens\"] = spa[\"clean_text\"].apply(lambda x: tokenize_text(nlp_es(x)))"
      ]
    },
    {
      "cell_type": "code",
      "execution_count": 7,
      "metadata": {
        "colab": {
          "base_uri": "https://localhost:8080/"
        },
        "id": "h8hfb5f_3df6",
        "outputId": "960d9867-05f3-4d5c-d1e1-c20f257f5e14"
      },
      "outputs": [
        {
          "name": "stdout",
          "output_type": "stream",
          "text": [
            "0    [starts, really, well, nice, intro, and, build...\n",
            "1    [terrific, movie, if, you, did, not, watch, ye...\n",
            "2    [i, have, seen, hundreds, of, silent, movies, ...\n",
            "3    [i, had, been, looking, for, this, film, for, ...\n",
            "4    [good, engaging, cinematic, firefights, great,...\n",
            "Name: tokens, dtype: object\n",
            "0    [comienza, muy, bien, bonita, intro, y, acumul...\n",
            "1    [película, excelente, si, aún, no, lo, observa...\n",
            "2    [he, visto, cientos, de, películas, silenciosa...\n",
            "3    [había, estado, buscando, esta, película, dura...\n",
            "4    [bueno, atractiva, firefights, cinematicales, ...\n",
            "Name: tokens, dtype: object\n"
          ]
        }
      ],
      "source": [
        "print(eng[\"tokens\"].head())\n",
        "print(spa[\"tokens\"].head())"
      ]
    },
    {
      "cell_type": "code",
      "execution_count": 8,
      "metadata": {
        "id": "31UsU8KufAEP"
      },
      "outputs": [],
      "source": [
        "# --- Compute tokenization statistics ---\n",
        "avg_tokens_en = eng[\"tokens\"].apply(len).mean()\n",
        "avg_tokens_es = spa[\"tokens\"].apply(len).mean()\n",
        "\n",
        "total_tokens_en = sum(eng[\"tokens\"].apply(len))\n",
        "total_tokens_es = sum(spa[\"tokens\"].apply(len))\n",
        "\n",
        "vocab_size_en = len(set([word for tokens in eng[\"tokens\"] for word in tokens]))\n",
        "vocab_size_es = len(set([word for tokens in spa[\"tokens\"] for word in tokens]))"
      ]
    },
    {
      "cell_type": "code",
      "execution_count": 14,
      "metadata": {
        "colab": {
          "base_uri": "https://localhost:8080/",
          "height": 160
        },
        "id": "inNLYtsWfCej",
        "outputId": "c8df6d47-f487-44c0-bf01-16b9cb6b90f5"
      },
      "outputs": [
        {
          "name": "stdout",
          "output_type": "stream",
          "text": [
            "🧩 Tokenization Summary:\n",
            "\n"
          ]
        },
        {
          "data": {
            "text/html": [
              "<div>\n",
              "<style scoped>\n",
              "    .dataframe tbody tr th:only-of-type {\n",
              "        vertical-align: middle;\n",
              "    }\n",
              "\n",
              "    .dataframe tbody tr th {\n",
              "        vertical-align: top;\n",
              "    }\n",
              "\n",
              "    .dataframe thead th {\n",
              "        text-align: right;\n",
              "    }\n",
              "</style>\n",
              "<table border=\"1\" class=\"dataframe\">\n",
              "  <thead>\n",
              "    <tr style=\"text-align: right;\">\n",
              "      <th></th>\n",
              "      <th>Language</th>\n",
              "      <th>Avg. Tokens per Review</th>\n",
              "      <th>Total Tokens</th>\n",
              "      <th>Vocabulary Size</th>\n",
              "    </tr>\n",
              "  </thead>\n",
              "  <tbody>\n",
              "    <tr>\n",
              "      <th>0</th>\n",
              "      <td>English</td>\n",
              "      <td>233.62</td>\n",
              "      <td>2336232</td>\n",
              "      <td>51471</td>\n",
              "    </tr>\n",
              "    <tr>\n",
              "      <th>1</th>\n",
              "      <td>Spanish</td>\n",
              "      <td>238.07</td>\n",
              "      <td>2380704</td>\n",
              "      <td>80983</td>\n",
              "    </tr>\n",
              "  </tbody>\n",
              "</table>\n",
              "</div>"
            ],
            "text/plain": [
              "  Language  Avg. Tokens per Review  Total Tokens  Vocabulary Size\n",
              "0  English                  233.62       2336232            51471\n",
              "1  Spanish                  238.07       2380704            80983"
            ]
          },
          "metadata": {},
          "output_type": "display_data"
        }
      ],
      "source": [
        "token_stats = pd.DataFrame({\n",
        "    \"Language\": [\"English\", \"Spanish\"],\n",
        "    \"Avg. Tokens per Review\": [round(avg_tokens_en, 2), round(avg_tokens_es, 2)],\n",
        "    \"Total Tokens\": [total_tokens_en, total_tokens_es],\n",
        "    \"Vocabulary Size\": [vocab_size_en, vocab_size_es]\n",
        "})\n",
        "\n",
        "print(\"🧩 Tokenization Summary:\\n\")\n",
        "display(token_stats)"
      ]
    },
    {
      "cell_type": "code",
      "execution_count": 15,
      "metadata": {
        "colab": {
          "base_uri": "https://localhost:8080/"
        },
        "id": "xE41rjqYEC5U",
        "outputId": "772dc1ac-7dcc-437c-bef9-36e7cd73037f"
      },
      "outputs": [],
      "source": [
        "# Flatten tokens\n",
        "tokens_en = [token for tokens in eng[\"tokens\"] for token in tokens]\n",
        "tokens_es = [token for tokens in spa[\"tokens\"] for token in tokens]\n",
        "\n",
        "# Split into train/test (95% / 5%)\n",
        "split_en = int(0.95 * len(tokens_en))\n",
        "split_es = int(0.95 * len(tokens_es))\n",
        "\n",
        "#English training and testing\n",
        "train_en = tokens_en[:split_en]\n",
        "test_en = tokens_en[split_en:]\n",
        "\n",
        "#Spanish training and testing\n",
        "train_es = tokens_es[:split_es]\n",
        "test_es = tokens_es[split_es:]\n",
        "\n",
        "#bigram models for both languages\n",
        "bigrams_en = list(ngrams(train_en, 2))\n",
        "bigrams_es = list(ngrams(train_es, 2))\n",
        "\n",
        "#frequency for both unigrams and bigrams\n",
        "model_en_bi = Counter(bigrams_en)\n",
        "model_es_bi = Counter(bigrams_es)\n",
        "model_en_uni = Counter(train_en) #only counts from the training\n",
        "model_es_uni = Counter(train_es)\n",
        "\n",
        "vocab_size_en = len(model_en_uni)\n",
        "vocab_size_es = len(model_es_uni)"
      ]
    },
    {
      "cell_type": "code",
      "execution_count": 16,
      "metadata": {
        "colab": {
          "base_uri": "https://localhost:8080/"
        },
        "id": "8bfICeTWGFTJ",
        "outputId": "3d5363ab-988e-4e9d-ff8c-c3ca2d671f50"
      },
      "outputs": [
        {
          "name": "stdout",
          "output_type": "stream",
          "text": [
            "English Perplexity: 2946.62\n",
            "Spanish Perplexity: 4454.98\n"
          ]
        }
      ],
      "source": [
        "def calculate_perplexity(bigram_model, unigram_model, test_tokens, train_vocab_size, n=2):\n",
        "\n",
        "    N = len(test_tokens)\n",
        "\n",
        "    ngrams_list = list(ngrams(test_tokens, n))\n",
        "\n",
        "    log_prob = 0\n",
        "\n",
        "    for ng in ngrams_list:\n",
        "        context = ng[:-1] # from (word1 ,word2) to just (word1)\n",
        "        word_minus_1 = context[0] # now we store word1\n",
        "\n",
        "        count_bigram = bigram_model[ng] #how many times do we have (word1, word2)\n",
        "        count_unigram = unigram_model[word_minus_1] #how many times do we have (word1)\n",
        "\n",
        "        prob = (count_bigram + 1) / (count_unigram + train_vocab_size) # P = (count(word1, word2) + 1) / (count(word1) + v)\n",
        "\n",
        "        log_prob += -math.log(prob) #keeps adding the prob\n",
        "\n",
        "    return math.exp(log_prob / N)\n",
        "\n",
        "pp_en = calculate_perplexity(model_en_bi, model_en_uni, test_en, vocab_size_en)\n",
        "pp_es = calculate_perplexity(model_es_bi, model_es_uni, test_es, vocab_size_es)\n",
        "\n",
        "print(f\"English Perplexity: {pp_en:.2f}\")\n",
        "print(f\"Spanish Perplexity: {pp_es:.2f}\")\n",
        "\n",
        "#the preplexity for both language might be high because we used a bigram and a small dataset, but we might improve it later if needed."
      ]
    },
    {
      "cell_type": "code",
      "execution_count": 17,
      "metadata": {
        "colab": {
          "base_uri": "https://localhost:8080/",
          "height": 472
        },
        "id": "4Y7GtVVpGQZK",
        "outputId": "0fd6cf3d-046b-4e62-dea0-b8a240b0e405"
      },
      "outputs": [
        {
          "data": {
            "image/png": "[encoded data removed]",
            "text/plain": [
              "<Figure size 640x480 with 1 Axes>"
            ]
          },
          "metadata": {},
          "output_type": "display_data"
        }
      ],
      "source": [
        "# Top 15 English bigrams\n",
        "df_en = pd.DataFrame(model_en_bi.most_common(15), columns=[\"Bigram\", \"Count\"])\n",
        "df_en[\"Bigram\"] = df_en[\"Bigram\"].astype(str)\n",
        "\n",
        "sns.barplot(data=df_en, y=\"Bigram\", x=\"Count\", color=\"blue\")\n",
        "plt.title(\"Top 15 English Bigrams\")\n",
        "plt.show()"
      ]
    },
    {
      "cell_type": "code",
      "execution_count": 18,
      "metadata": {
        "colab": {
          "base_uri": "https://localhost:8080/",
          "height": 472
        },
        "id": "8pJ6zXwKJQrK",
        "outputId": "908a060a-c874-4e67-8a0f-2bf8798cd4c7"
      },
      "outputs": [
        {
          "data": {
            "image/png": "[encoded data removed]",
            "text/plain": [
              "<Figure size 640x480 with 1 Axes>"
            ]
          },
          "metadata": {},
          "output_type": "display_data"
        }
      ],
      "source": [
        "# Top 15 Spanish bigrams\n",
        "df_es = pd.DataFrame(model_es_bi.most_common(15), columns=[\"Bigram\", \"Count\"])\n",
        "df_es[\"Bigram\"] = df_es[\"Bigram\"].astype(str)\n",
        "\n",
        "sns.barplot(data=df_es, y=\"Bigram\", x=\"Count\", color=\"blue\")\n",
        "plt.title(\"Top 15 Spanish Bigrams\")\n",
        "plt.show()"
      ]
    },
    {
      "cell_type": "code",
      "execution_count": 20,
      "metadata": {},
      "outputs": [
        {
          "name": "stdout",
          "output_type": "stream",
          "text": [
            "✅ POS tagging complete for both languages.\n"
          ]
        }
      ],
      "source": [
        "def pos_tag_text(doc):\n",
        "    return [(token.text, token.pos_) for token in doc if not token.is_punct and not token.is_space]\n",
        "\n",
        "# Apply POS tagging\n",
        "eng[\"pos_tags\"] = eng[\"clean_text\"].apply(lambda x: pos_tag_text(nlp_en(x)))\n",
        "spa[\"pos_tags\"] = spa[\"clean_text\"].apply(lambda x: pos_tag_text(nlp_es(x)))\n",
        "\n",
        "print(\"✅ POS tagging complete for both languages.\")"
      ]
    },
    {
      "cell_type": "code",
      "execution_count": 23,
      "metadata": {},
      "outputs": [
        {
          "name": "stdout",
          "output_type": "stream",
          "text": [
            "these are the POS distributions(%): \n"
          ]
        },
        {
          "data": {
            "text/html": [
              "<div>\n",
              "<style scoped>\n",
              "    .dataframe tbody tr th:only-of-type {\n",
              "        vertical-align: middle;\n",
              "    }\n",
              "\n",
              "    .dataframe tbody tr th {\n",
              "        vertical-align: top;\n",
              "    }\n",
              "\n",
              "    .dataframe thead th {\n",
              "        text-align: right;\n",
              "    }\n",
              "</style>\n",
              "<table border=\"1\" class=\"dataframe\">\n",
              "  <thead>\n",
              "    <tr style=\"text-align: right;\">\n",
              "      <th></th>\n",
              "      <th>VERB</th>\n",
              "      <th>ADV</th>\n",
              "      <th>ADJ</th>\n",
              "      <th>NOUN</th>\n",
              "      <th>CCONJ</th>\n",
              "      <th>ADP</th>\n",
              "      <th>DET</th>\n",
              "      <th>AUX</th>\n",
              "      <th>SCONJ</th>\n",
              "      <th>PRON</th>\n",
              "      <th>PART</th>\n",
              "      <th>PROPN</th>\n",
              "      <th>NUM</th>\n",
              "      <th>INTJ</th>\n",
              "      <th>PUNCT</th>\n",
              "      <th>X</th>\n",
              "      <th>SYM</th>\n",
              "    </tr>\n",
              "  </thead>\n",
              "  <tbody>\n",
              "    <tr>\n",
              "      <th>English</th>\n",
              "      <td>11.94</td>\n",
              "      <td>6.31</td>\n",
              "      <td>8.93</td>\n",
              "      <td>20.58</td>\n",
              "      <td>3.85</td>\n",
              "      <td>10.41</td>\n",
              "      <td>10.84</td>\n",
              "      <td>6.98</td>\n",
              "      <td>2.47</td>\n",
              "      <td>10.14</td>\n",
              "      <td>3.22</td>\n",
              "      <td>3.40</td>\n",
              "      <td>0.61</td>\n",
              "      <td>0.24</td>\n",
              "      <td>0.0</td>\n",
              "      <td>0.06</td>\n",
              "      <td>0.0</td>\n",
              "    </tr>\n",
              "    <tr>\n",
              "      <th>Spanish</th>\n",
              "      <td>10.78</td>\n",
              "      <td>6.14</td>\n",
              "      <td>8.84</td>\n",
              "      <td>20.35</td>\n",
              "      <td>3.74</td>\n",
              "      <td>13.76</td>\n",
              "      <td>13.96</td>\n",
              "      <td>5.17</td>\n",
              "      <td>3.06</td>\n",
              "      <td>6.47</td>\n",
              "      <td>0.03</td>\n",
              "      <td>7.33</td>\n",
              "      <td>0.32</td>\n",
              "      <td>0.04</td>\n",
              "      <td>0.0</td>\n",
              "      <td>0.00</td>\n",
              "      <td>0.0</td>\n",
              "    </tr>\n",
              "  </tbody>\n",
              "</table>\n",
              "</div>"
            ],
            "text/plain": [
              "          VERB   ADV   ADJ   NOUN  CCONJ    ADP    DET   AUX  SCONJ   PRON  \\\n",
              "English  11.94  6.31  8.93  20.58   3.85  10.41  10.84  6.98   2.47  10.14   \n",
              "Spanish  10.78  6.14  8.84  20.35   3.74  13.76  13.96  5.17   3.06   6.47   \n",
              "\n",
              "         PART  PROPN   NUM  INTJ  PUNCT     X  SYM  \n",
              "English  3.22   3.40  0.61  0.24    0.0  0.06  0.0  \n",
              "Spanish  0.03   7.33  0.32  0.04    0.0  0.00  0.0  "
            ]
          },
          "execution_count": 23,
          "metadata": {},
          "output_type": "execute_result"
        }
      ],
      "source": [
        "def get_pos_distribution(docs):\n",
        "    pos_counts = Counter([pos for doc in docs for _, pos in doc])\n",
        "    total = sum(pos_counts.values())\n",
        "    return {pos: round(count / total * 100, 2) for pos, count in pos_counts.items()}\n",
        "\n",
        "pos_en = get_pos_distribution(eng[\"pos_tags\"])\n",
        "pos_es = get_pos_distribution(spa[\"pos_tags\"])\n",
        "\n",
        "# Convert to DataFrame for visualization\n",
        "pos_df = pd.DataFrame([pos_en, pos_es], index=[\"English\", \"Spanish\"]).fillna(0)\n",
        "\n",
        "print(\"these are the POS distributions(%): \")\n",
        "pos_df\n"
      ]
    }
  ],
  "metadata": {
    "colab": {
      "authorship_tag": "ABX9TyM+vP1S/eMoNPenRirclm3E",
      "include_colab_link": true,
      "provenance": []
    },
    "kernelspec": {
      "display_name": ".venv",
      "language": "python",
      "name": "python3"
    },
    "language_info": {
      "codemirror_mode": {
        "name": "ipython",
        "version": 3
      },
      "file_extension": ".py",
      "mimetype": "text/x-python",
      "name": "python",
      "nbconvert_exporter": "python",
      "pygments_lexer": "ipython3",
      "version": "3.12.3"
    }
  },
  "nbformat": 4,
  "nbformat_minor": 0
}
