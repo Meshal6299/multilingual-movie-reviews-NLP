{
  "cells": [
    {
      "cell_type": "markdown",
      "metadata": {
        "colab_type": "text",
        "id": "view-in-github"
      },
      "source": [
        "<a href=\"https://colab.research.google.com/github/Meshal6299/multilingual-movie-reviews-NLP/blob/main/notebooks/sampleGenerator_es.ipynb\" target=\"_parent\"><img src=\"https://colab.research.google.com/assets/colab-badge.svg\" alt=\"Open In Colab\"/></a>"
      ]
    },
    {
      "cell_type": "code",
      "execution_count": null,
      "metadata": {
        "colab": {
          "base_uri": "https://localhost:8080/"
        },
        "id": "g8Sq8XvOVAcQ",
        "outputId": "5cd52f11-fc34-47c8-cb8a-ba7c572ce9d3"
      },
      "outputs": [
        {
          "name": "stdout",
          "output_type": "stream",
          "text": [
            "Mounted at /content/drive\n"
          ]
        }
      ],
      "source": [
        "from google.colab import drive\n",
        "drive.mount('/content/drive')"
      ]
    },
    {
      "cell_type": "code",
      "execution_count": null,
      "metadata": {
        "id": "dI6q7u877mcc"
      },
      "outputs": [],
      "source": [
        "import pandas as pd"
      ]
    },
    {
      "cell_type": "code",
      "execution_count": null,
      "metadata": {
        "id": "YN5aZyk7Cveg"
      },
      "outputs": [],
      "source": [
        "def sample_imdb_data(input_file: str, output_file: str, sentiment_column: str, pos_label: str, neg_label: str, review_column: str, max_samples: int = 1000, random_seed: int = 42):\n",
        "    try:\n",
        "        # 1. Load the dataset\n",
        "        df = pd.read_csv(input_file)\n",
        "        print(f\"Original dataset loaded with {len(df)} rows.\")\n",
        "\n",
        "        # 2. Separate the DataFrame into sentiment subsets\n",
        "        positive_df = df[df[sentiment_column] == pos_label]\n",
        "        negative_df = df[df[sentiment_column] == neg_label]\n",
        "\n",
        "        # 3. Randomly sample up to 1000 from each subset\n",
        "        positive_sample = positive_df.sample(\n",
        "            n=min(max_samples, len(positive_df)),\n",
        "            random_state=random_seed\n",
        "        )\n",
        "        negative_sample = negative_df.sample(\n",
        "            n=min(max_samples, len(negative_df)),\n",
        "            random_state=random_seed\n",
        "        )\n",
        "\n",
        "        # 4. Combine and shuffle the samples\n",
        "        sampled_df = pd.concat([positive_sample, negative_sample])\n",
        "        sampled_df = sampled_df.sample(frac=1, random_state=random_seed).reset_index(drop=True)\n",
        "\n",
        "        # 5. SELECT ONLY THE SPANISH COLUMNS\n",
        "        columns_to_keep = [review_column, sentiment_column]\n",
        "        final_df = sampled_df.loc[:, columns_to_keep]\n",
        "\n",
        "        # 6. Save the sampled DataFrame to a new CSV file\n",
        "        final_df.to_csv(output_file, index=False)\n",
        "\n",
        "        print(f\"\\n--- Sampling Complete ---\")\n",
        "        print(f\"Final columns in '{output_file}': {final_df.columns.tolist()}\")\n",
        "        print(f\"Total rows in new file: {len(final_df)}\")\n",
        "\n",
        "    except FileNotFoundError:\n",
        "        print(f\"Error: The file '{input_file}' was not found.\")\n",
        "    except KeyError as e:\n",
        "        print(f\"Error: Column {e} not found in the CSV file. Please check your column names.\")\n",
        "    except Exception as e:\n",
        "        print(f\"An unexpected error occurred: {e}\")"
      ]
    },
    {
      "cell_type": "code",
      "execution_count": null,
      "metadata": {
        "colab": {
          "base_uri": "https://localhost:8080/"
        },
        "id": "ic27eLMQ_qD4",
        "outputId": "8badc0c7-41a6-4997-fa73-50e0ca813573"
      },
      "outputs": [
        {
          "name": "stdout",
          "output_type": "stream",
          "text": [
            "Original dataset loaded with 50000 rows.\n",
            "\n",
            "--- Sampling Complete ---\n",
            "Final columns in 'sampled_spanish_data.csv': ['review_es', 'sentimiento']\n",
            "Total rows in new file: 2000\n"
          ]
        }
      ],
      "source": [
        "# --- Script Execution ---\n",
        "if __name__ == \"__main__\":\n",
        "    # You MUST replace INPUT_FILE with your actual file name and path\n",
        "    INPUT_FILE = \"/content/drive/MyDrive/NLP Project/IMDB Dataset SPANISH.csv\"\n",
        "    OUTPUT_FILE = \"sampled_spanish_data.csv\"\n",
        "    MAX_SAMPLES_PER_CLASS = 1000\n",
        "\n",
        "    # Column configuration\n",
        "    SENTIMENT_COL = \"sentimiento\"\n",
        "    REVIEW_COL = \"review_es\"\n",
        "    POS_LABEL = \"positivo\"\n",
        "    NEG_LABEL = \"negativo\"\n",
        "\n",
        "    sample_imdb_data(\n",
        "        INPUT_FILE,\n",
        "        OUTPUT_FILE,\n",
        "        SENTIMENT_COL,\n",
        "        POS_LABEL,\n",
        "        NEG_LABEL,\n",
        "        REVIEW_COL,\n",
        "        MAX_SAMPLES_PER_CLASS\n",
        "    )\n"
      ]
    }
  ],
  "metadata": {
    "colab": {
      "authorship_tag": "ABX9TyP8u3r/O+u5vKF0mmT7pnJc",
      "include_colab_link": true,
      "mount_file_id": "1UiVIX5zpgA9SoTomIwMAfkM6PW-rUWQt",
      "provenance": []
    },
    "kernelspec": {
      "display_name": "Python 3",
      "name": "python3"
    },
    "language_info": {
      "name": "python"
    }
  },
  "nbformat": 4,
  "nbformat_minor": 0
}
