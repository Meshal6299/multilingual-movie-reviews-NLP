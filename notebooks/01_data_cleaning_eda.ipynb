{
  "cells": [
    {
      "cell_type": "code",
      "execution_count": 1,
      "metadata": {
        "id": "tY5tuoo61vJL"
      },
      "outputs": [],
      "source": [
        "#importing libraries\n",
        "import pandas as pd\n",
        "import re\n",
        "import spacy\n",
        "import matplotlib.pyplot as plt\n",
        "import seaborn as sns\n",
        "from wordcloud import WordCloud"
      ]
    },
    {
      "cell_type": "code",
      "execution_count": 2,
      "metadata": {
        "colab": {
          "base_uri": "https://localhost:8080/"
        },
        "id": "7ofvAFbjd4Zb",
        "outputId": "8b6a0018-914c-4697-e782-57c748f482ba"
      },
      "outputs": [
        {
          "name": "stdout",
          "output_type": "stream",
          "text": [
            "                                              review sentiment language\n",
            "0  Feh. This movie started out in an interesting ...  negative  english\n",
            "1  Crackerjack is a simple but feelgood movie whe...  positive  english\n",
            "2  This star-studded British/Spanish co-productio...  negative  english\n",
            "3  My wife, Kate and I absolutely loved the serie...  positive  english\n",
            "4  Unfortunately, this film is typical of the wat...  negative  english\n",
            "\n",
            "\n",
            "                                           review_es sentiment language\n",
            "0  Feh. Esta película comenzó de una manera inter...  negative  spanish\n",
            "1  Crackerjack es una película sencilla pero feel...  positive  spanish\n",
            "2  Esta coproducción británica / española de estr...  negative  spanish\n",
            "3  Mi esposa, Kate y yo nos encantó la serie y no...  positive  spanish\n",
            "4  Desafortunadamente, esta película es típica de...  negative  spanish\n"
          ]
        }
      ],
      "source": [
        "#Loading the data\n",
        "eng = pd.read_csv(\"../data/raw/sampled_imdb_en.csv\")\n",
        "spa = pd.read_csv(\"../data/raw/sampled_imdb_es.csv\")\n",
        "\n",
        "eng[\"language\"] = \"english\"\n",
        "spa[\"language\"] = \"spanish\"\n",
        "\n",
        "print(eng.head())\n",
        "print(\"\\n\")\n",
        "print(spa.head())"
      ]
    },
    {
      "cell_type": "code",
      "execution_count": 3,
      "metadata": {
        "colab": {
          "base_uri": "https://localhost:8080/"
        },
        "id": "2_X0UxxxYtA0",
        "outputId": "d3174f20-b855-4036-efaa-e716cc39eb3d"
      },
      "outputs": [
        {
          "name": "stdout",
          "output_type": "stream",
          "text": [
            "                                              review sentiment language  \\\n",
            "0  Feh. This movie started out in an interesting ...  negative  english   \n",
            "1  Crackerjack is a simple but feelgood movie whe...  positive  english   \n",
            "2  This star-studded British/Spanish co-productio...  negative  english   \n",
            "3  My wife, Kate and I absolutely loved the serie...  positive  english   \n",
            "4  Unfortunately, this film is typical of the wat...  negative  english   \n",
            "\n",
            "                                          clean_text  \n",
            "0  feh this movie started out in an interesting m...  \n",
            "1  crackerjack is a simple but feelgood movie whe...  \n",
            "2  this star studded british spanish co productio...  \n",
            "3  my wife kate and i absolutely loved the series...  \n",
            "4  unfortunately this film is typical of the wate...  \n",
            "\n",
            "\n",
            "                                           review_es sentiment language  \\\n",
            "0  Feh. Esta película comenzó de una manera inter...  negative  spanish   \n",
            "1  Crackerjack es una película sencilla pero feel...  positive  spanish   \n",
            "2  Esta coproducción británica / española de estr...  negative  spanish   \n",
            "3  Mi esposa, Kate y yo nos encantó la serie y no...  positive  spanish   \n",
            "4  Desafortunadamente, esta película es típica de...  negative  spanish   \n",
            "\n",
            "                                          clean_text  \n",
            "0  feh esta película comenzó de una manera intere...  \n",
            "1  crackerjack es una película sencilla pero feel...  \n",
            "2  esta coproducción británica española de estrel...  \n",
            "3  mi esposa kate y yo nos encantó la serie y no ...  \n",
            "4  desafortunadamente esta película es típica del...  \n"
          ]
        }
      ],
      "source": [
        "#cleaning the dataset from any unwanted charecters and making all letters are lowercase\n",
        "def clean_text(text):\n",
        "    text = str(text).lower()                       # convert all letter to lowercase\n",
        "    text = re.sub(r'[-/]', ' ', text)              # Replace hyphens and slashes with spaces\n",
        "    text = re.sub(r'<.*?>', ' ', text)             # Replace HTML tags with spaces\n",
        "    text = re.sub(r'http\\S+', ' ', text)           # Replace URLs with spaces\n",
        "    text = re.sub(r'[^a-zA-Záéíóúüñ\\s]', '', text)# keep letters only\n",
        "    text = re.sub(r'\\s+', ' ', text).strip()\n",
        "    return text\n",
        "\n",
        "eng[\"clean_text\"] = eng[\"review\"].apply(clean_text)\n",
        "spa[\"clean_text\"] = spa[\"review_es\"].apply(clean_text)\n",
        "\n",
        "print(eng.head())\n",
        "print(\"\\n\")\n",
        "print(spa.head())"
      ]
    },
    {
      "cell_type": "code",
      "execution_count": null,
      "metadata": {
        "colab": {
          "base_uri": "https://localhost:8080/"
        },
        "id": "ce9vs2hCfPRb",
        "outputId": "d0664621-a06e-45eb-a569-9a87deff8d56"
      },
      "outputs": [],
      "source": [
        "#showing the sentiment distribution of each language\n",
        "print(\"English dataset size:\", len(eng))\n",
        "print(\"Sentiment distribution (English):\")\n",
        "print(eng[\"sentiment\"].value_counts())\n",
        "\n",
        "print(\"------------------------------------------\")\n",
        "\n",
        "print(\"Spanish dataset size:\", len(spa))\n",
        "print(\"Sentiment distribution (Spanish):\")\n",
        "print(spa[\"sentiment\"].value_counts())"
      ]
    },
    {
      "cell_type": "code",
      "execution_count": null,
      "metadata": {
        "colab": {
          "base_uri": "https://localhost:8080/"
        },
        "id": "e2Fc4koppmHF",
        "outputId": "844c02b3-c58c-4d34-8194-6b16d627cd82"
      },
      "outputs": [],
      "source": [
        "#showing the average length of word per review  for each Language\n",
        "eng[\"review_length\"] = eng[\"clean_text\"].apply(lambda x: len(x.split()))\n",
        "spa[\"review_length\"] = spa[\"clean_text\"].apply(lambda x: len(x.split()))\n",
        "\n",
        "print(\"Average English review length:\", eng[\"review_length\"].mean())\n",
        "print(\"Average Spanish review length:\", spa[\"review_length\"].mean())"
      ]
    },
    {
      "cell_type": "code",
      "execution_count": null,
      "metadata": {
        "colab": {
          "base_uri": "https://localhost:8080/",
          "height": 927
        },
        "id": "7XMiZSWruWEb",
        "outputId": "d962bb9c-96d0-4523-ba69-02b622e3d16c"
      },
      "outputs": [],
      "source": [
        "#showing the length distribution\n",
        "sns.histplot(eng[\"review_length\"], color=\"blue\", bins=30)\n",
        "plt.title(\"English Review Length Distribution\")\n",
        "plt.xlabel(\"Number of Words\")\n",
        "plt.ylabel(\"Frequency\")\n",
        "plt.show()\n",
        "\n",
        "sns.histplot(spa[\"review_length\"], color=\"red\", bins=30)\n",
        "plt.title(\"Spanish Review Length Distribution\")\n",
        "plt.xlabel(\"Number of Words\")\n",
        "plt.ylabel(\"Frequency\")\n",
        "plt.show()"
      ]
    },
    {
      "cell_type": "code",
      "execution_count": null,
      "metadata": {
        "colab": {
          "base_uri": "https://localhost:8080/",
          "height": 305
        },
        "id": "oFFru4CZwj3w",
        "outputId": "4fbc8e18-8cd0-4e45-e303-71ad99585a45"
      },
      "outputs": [],
      "source": [
        "#creating a wordcloud for showing the most frequent usef words in each language\n",
        "english_text = \" \".join(eng[\"clean_text\"].dropna().tolist())\n",
        "spanish_text = \" \".join(spa[\"clean_text\"].dropna().tolist())\n",
        "\n",
        "wordcloud_en = WordCloud(\n",
        "    width=800,\n",
        "    height=400,\n",
        "    background_color=\"white\",\n",
        "    max_words=200,\n",
        "    colormap=\"Blues\"\n",
        ").generate(english_text)\n",
        "\n",
        "wordcloud_es = WordCloud(\n",
        "    width=800,\n",
        "    height=400,\n",
        "    background_color=\"white\",\n",
        "    max_words=200,\n",
        "    colormap=\"Reds\"\n",
        ").generate(spanish_text)\n",
        "\n",
        "plt.figure(figsize=(14, 6))\n",
        "\n",
        "plt.subplot(1, 2, 1)\n",
        "plt.imshow(wordcloud_en, interpolation=\"bilinear\")\n",
        "plt.axis(\"off\")\n",
        "plt.title(\"English Word Cloud\", fontsize=12)\n",
        "\n",
        "plt.subplot(1, 2, 2)\n",
        "plt.imshow(wordcloud_es, interpolation=\"bilinear\")\n",
        "plt.axis(\"off\")\n",
        "plt.title(\"Spanish Word Cloud\", fontsize=12)\n",
        "\n",
        "plt.show()\n"
      ]
    },
    {
      "cell_type": "code",
      "execution_count": 4,
      "metadata": {},
      "outputs": [
        {
          "name": "stdout",
          "output_type": "stream",
          "text": [
            "✅ Cleaned datasets saved successfully.\n"
          ]
        }
      ],
      "source": [
        "# Keep only the required columns\n",
        "eng_final = eng[[\"clean_text\", \"sentiment\"]]\n",
        "spa_final = spa[[\"clean_text\", \"sentiment\"]]\n",
        "\n",
        "# Save the cleaned datasets to CSV files\n",
        "eng_final.to_csv(\"../data/processed/01_cleaned_imdb_en.csv\", index=False)\n",
        "spa_final.to_csv(\"../data/processed/01_cleaned_imdb_es.csv\", index=False)\n",
        "\n",
        "print(\"✅ Cleaned datasets saved successfully.\")\n"
      ]
    }
  ],
  "metadata": {
    "colab": {
      "authorship_tag": "ABX9TyMMZ97g/2fVJVlpy9EAD0EP",
      "include_colab_link": true,
      "provenance": []
    },
    "kernelspec": {
      "display_name": ".venv",
      "language": "python",
      "name": "python3"
    },
    "language_info": {
      "codemirror_mode": {
        "name": "ipython",
        "version": 3
      },
      "file_extension": ".py",
      "mimetype": "text/x-python",
      "name": "python",
      "nbconvert_exporter": "python",
      "pygments_lexer": "ipython3",
      "version": "3.12.3"
    }
  },
  "nbformat": 4,
  "nbformat_minor": 0
}
