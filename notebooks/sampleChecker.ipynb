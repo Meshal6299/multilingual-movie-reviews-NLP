{
  "nbformat": 4,
  "nbformat_minor": 0,
  "metadata": {
    "colab": {
      "provenance": [],
      "authorship_tag": "ABX9TyNBl8zgCCNmDMQEudyw4OjJ",
      "include_colab_link": true
    },
    "kernelspec": {
      "name": "python3",
      "display_name": "Python 3"
    },
    "language_info": {
      "name": "python"
    }
  },
  "cells": [
    {
      "cell_type": "markdown",
      "metadata": {
        "id": "view-in-github",
        "colab_type": "text"
      },
      "source": [
        "<a href=\"https://colab.research.google.com/github/Meshal6299/multilingual-movie-reviews-NLP/blob/main/notebooks/sampleChecker.ipynb\" target=\"_parent\"><img src=\"https://colab.research.google.com/assets/colab-badge.svg\" alt=\"Open In Colab\"/></a>"
      ]
    },
    {
      "cell_type": "code",
      "source": [
        "!git clone https://github.com/Meshal6299/multilingual-movie-reviews-NLP.git"
      ],
      "metadata": {
        "colab": {
          "base_uri": "https://localhost:8080/"
        },
        "id": "Lx-lA4H92vl-",
        "outputId": "13c7387a-79ae-4b41-a626-e7f499b5aac3"
      },
      "execution_count": 1,
      "outputs": [
        {
          "output_type": "stream",
          "name": "stdout",
          "text": [
            "Cloning into 'multilingual-movie-reviews-NLP'...\n",
            "remote: Enumerating objects: 92, done.\u001b[K\n",
            "remote: Counting objects: 100% (92/92), done.\u001b[K\n",
            "remote: Compressing objects: 100% (64/64), done.\u001b[K\n",
            "remote: Total 92 (delta 41), reused 58 (delta 20), pack-reused 0 (from 0)\u001b[K\n",
            "Receiving objects: 100% (92/92), 2.63 MiB | 14.23 MiB/s, done.\n",
            "Resolving deltas: 100% (41/41), done.\n"
          ]
        }
      ]
    },
    {
      "cell_type": "code",
      "source": [
        "%cd multilingual-movie-reviews-NLP\n",
        "!ls\n",
        "\n",
        "# the output should be the following:\n",
        "# /content/multilingual-movie-reviews-NLP\n",
        "# data  notebooks  README.md  requirements.txt  run_pipeline.py  src"
      ],
      "metadata": {
        "colab": {
          "base_uri": "https://localhost:8080/"
        },
        "id": "1SldoEjC21Pg",
        "outputId": "4a602af6-d088-4763-c3e5-4110c91c15ea"
      },
      "execution_count": 2,
      "outputs": [
        {
          "output_type": "stream",
          "name": "stdout",
          "text": [
            "/content/multilingual-movie-reviews-NLP\n",
            "data  notebooks  README.md  requirements.txt  run_pipeline.py  src\n"
          ]
        }
      ]
    },
    {
      "cell_type": "code",
      "source": [
        "import pandas as pd"
      ],
      "metadata": {
        "id": "S7kEJxM83Ca-"
      },
      "execution_count": 3,
      "outputs": []
    },
    {
      "cell_type": "code",
      "execution_count": 4,
      "metadata": {
        "colab": {
          "base_uri": "https://localhost:8080/"
        },
        "id": "PCo0okaa2hsu",
        "outputId": "aeb99d39-01d8-476e-b456-a3d815b20aca"
      },
      "outputs": [
        {
          "output_type": "stream",
          "name": "stdout",
          "text": [
            "Checking English sampled data balance...\n",
            "sentiment\n",
            "negative    1000\n",
            "positive    1000\n",
            "Name: count, dtype: int64\n"
          ]
        }
      ],
      "source": [
        "print(\"Checking English sampled data balance...\")\n",
        "df_en = pd.read_csv(\"data/raw/sampled_imdb_en.csv\")\n",
        "print(df_en['sentiment'].value_counts())"
      ]
    },
    {
      "cell_type": "code",
      "source": [
        "print(\"Checking Spanish sampled data balance...\")\n",
        "\n",
        "df_es = pd.read_csv(\"data/raw/sampled_imdb_es.csv\")\n",
        "print(df_es['sentiment'].value_counts())"
      ],
      "metadata": {
        "colab": {
          "base_uri": "https://localhost:8080/"
        },
        "id": "e3lfu1fA2_o2",
        "outputId": "83ae0fa9-f7fc-43b0-9c4d-67bfffc6868e"
      },
      "execution_count": 5,
      "outputs": [
        {
          "output_type": "stream",
          "name": "stdout",
          "text": [
            "Checking Spanish sampled data balance...\n",
            "sentiment\n",
            "negative    1000\n",
            "positive    1000\n",
            "Name: count, dtype: int64\n"
          ]
        }
      ]
    }
  ]
}